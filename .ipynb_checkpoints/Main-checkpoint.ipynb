{
 "cells": [
  {
   "cell_type": "code",
   "execution_count": 4,
   "id": "afe7235f",
   "metadata": {},
   "outputs": [
    {
     "name": "stderr",
     "output_type": "stream",
     "text": [
      "2023-03-19 14:47:27,980 - pyswarms.single.global_best - INFO - Optimize for 200 iters with {'c1': 0.5, 'c2': 0.3, 'w': 0.9}\n"
     ]
    },
    {
     "name": "stdout",
     "output_type": "stream",
     "text": [
      "\u001b[92m\u001b[1m\n",
      "+-+-+-+-+-+ +-+-+-+-+-+-+-+-+-+ +-+-+-+ +-+-+-+-+-+-+-+-+-+-+-+-+-+-+\n",
      "           ____ _____  _    ____ _  ______ _____ _   _\n",
      "          / ___|_   _|/ \\  / ___| |/ / ___| ____| \\ | |\n",
      "          \\___ \\ | | / _ \\| |   | ' / |  _|  _| |  \\| |\n",
      "           ___) || |/ ___ \\ |___| . \\ |_| | |___| |\\  |\n",
      "          |____/ |_/_/   \\_\\____|_|\\_\\____|_____|_| \\_|\n",
      "                 Stack generator for supramolecules\n",
      "+-+-+-+-+-+ +-+-+-+-+-+-+-+-+-+ +-+-+-+ +-+-+-+-+-+-+-+-+-+-+-+-+-+-+\n",
      "\u001b[0m\n",
      " LOG: print all key and values used by the code \n",
      " LOG: note that some of the keys displayed here may not be used by the code\n",
      " LOG: tx_lower = 0.0\n",
      " LOG: tx_upper = 3.0\n",
      " LOG: ty_lower = 0.0\n",
      " LOG: ty_upper = 3.0\n",
      " LOG: tz_lower = 3.3\n",
      " LOG: tz_upper = 3.7\n",
      " LOG: twist_lower = 0.0\n",
      " LOG: twist_upper = 180.0\n",
      " LOG: rot_type = 1\n",
      " LOG: stack_size = 2\n",
      " LOG: input_struct = input.xyz\n",
      " LOG: pso_type = Globalbest\n",
      " LOG: ftol = 1\n",
      " LOG: ftol_iter = 10\n",
      " LOG: maxiterations = 200\n",
      " LOG: nproc_dftb = 1\n",
      " LOG: nparticle_pso = 3\n",
      " LOG: c1 = 0.5\n",
      " LOG: c2 = 0.3\n",
      " LOG: w = 0.9\n",
      " LOG: dimensions = 1\n",
      " LOG: c1_start = 2.5\n",
      " LOG: c1_end = 0.5\n",
      " LOG: c2_start = 0.5\n",
      " LOG: c2_end = 2.5\n",
      " LOG: w_start = 0.9\n",
      " LOG: w_end = 0.4\n",
      " LOG: k = 6\n",
      " LOG: p = 2\n",
      " LOG: label = supramo\n",
      " LOG: dimension = 4\n",
      " LOG: atom_1 = 8\n",
      " LOG: atom_2 = 9\n",
      " LOG: atom_3 = 10\n",
      " LOG: atoms = 8,9,10\n",
      " LOG: oh_strategy = False\n",
      " LOG: dftb calculation successful on test (h2o) system. continue...\n",
      " LOG: All inputs are set \n",
      "\n",
      " LOG: Running GlobalbestPSO algorithm\n"
     ]
    },
    {
     "name": "stderr",
     "output_type": "stream",
     "text": [
      "\r",
      "pyswarms.single.global_best:   0%|                                                                                                       |0/200"
     ]
    },
    {
     "name": "stdout",
     "output_type": "stream",
     "text": [
      " LOG: iteration,pso_particle,tx,ty,tz,twist,Energy\n",
      " LOG:    1   1 1.43 1.05 3.35 69.77 -453868.087899\n",
      " LOG:    1   2 2.39 1.64 3.34 96.59 -452862.187051\n"
     ]
    },
    {
     "name": "stderr",
     "output_type": "stream",
     "text": [
      "pyswarms.single.global_best:   0%|▎                                                                        |1/200, best_cost=-453868.0878989407"
     ]
    },
    {
     "name": "stdout",
     "output_type": "stream",
     "text": [
      " LOG:    1   3 1.62 1.29 3.40 165.30 -419029.200427\n",
      " LOG:    2   1 2.22 1.74 3.56 70.30 -454052.809817\n",
      " LOG:    2   2 2.94 1.70 3.40 94.71 -453094.248629\n"
     ]
    },
    {
     "name": "stderr",
     "output_type": "stream",
     "text": [
      "pyswarms.single.global_best:   1%|▋                                                                        |2/200, best_cost=-454052.8098172799"
     ]
    },
    {
     "name": "stdout",
     "output_type": "stream",
     "text": [
      " LOG:    2   3 1.85 1.95 3.63 149.02 -405254.388463\n",
      " LOG:    3   1 2.92 2.36 3.31 70.78 -453781.843853\n",
      " LOG:    3   2 0.36 1.76 3.43 88.85 -453293.720055\n"
     ]
    },
    {
     "name": "stderr",
     "output_type": "stream",
     "text": [
      "pyswarms.single.global_best:   2%|█                                                                        |3/200, best_cost=-454052.8098172799"
     ]
    },
    {
     "name": "stdout",
     "output_type": "stream",
     "text": [
      " LOG:    3   3 2.05 2.22 3.67 130.76 -435325.812821\n",
      " LOG:    4   1 0.20 2.62 3.57 71.05 -454044.369596\n",
      " LOG:    4   2 1.03 1.80 3.39 79.98 -453556.222584\n"
     ]
    },
    {
     "name": "stderr",
     "output_type": "stream",
     "text": [
      "pyswarms.single.global_best:   2%|█▍                                                                       |4/200, best_cost=-454052.8098172799"
     ]
    },
    {
     "name": "stdout",
     "output_type": "stream",
     "text": [
      " LOG:    4   3 2.25 2.37 3.64 112.61 -452428.251569\n",
      " LOG:    5   1 1.26 2.71 3.36 70.83 -453844.561715\n",
      " LOG:    5   2 1.64 1.83 3.31 69.63 -453822.082281\n"
     ]
    },
    {
     "name": "stderr",
     "output_type": "stream",
     "text": [
      "pyswarms.single.global_best:   2%|█▊                                                                       |5/200, best_cost=-454052.8098172799"
     ]
    },
    {
     "name": "stdout",
     "output_type": "stream",
     "text": [
      " LOG:    5   3 2.44 2.47 3.55 86.74 -453595.920344\n",
      " LOG:    6   1 2.54 2.34 3.57 70.44 -454055.244198\n",
      " LOG:    6   2 2.27 1.85 3.57 60.48 -454176.292356\n"
     ]
    },
    {
     "name": "stderr",
     "output_type": "stream",
     "text": [
      "pyswarms.single.global_best:   3%|██▏                                                                     |6/200, best_cost=-454176.29235559667"
     ]
    },
    {
     "name": "stdout",
     "output_type": "stream",
     "text": [
      " LOG:    6   3 2.57 2.44 3.43 61.09 -454105.486406\n",
      " LOG:    7   1 0.66 1.99 3.32 69.33 -453835.504438\n",
      " LOG:    7   2 2.84 1.87 3.36 52.25 -454158.049736\n"
     ]
    },
    {
     "name": "stderr",
     "output_type": "stream",
     "text": [
      "pyswarms.single.global_best:   4%|██▌                                                                      |7/200, best_cost=-454286.6036005734"
     ]
    },
    {
     "name": "stdout",
     "output_type": "stream",
     "text": [
      " LOG:    7   3 2.66 2.33 3.70 37.84 -454286.603601\n",
      " LOG:    8   1 2.44 1.81 3.55 63.33 -454143.863343\n",
      " LOG:    8   2 0.25 2.01 3.56 43.15 -454266.082695\n"
     ]
    },
    {
     "name": "stderr",
     "output_type": "stream",
     "text": [
      "pyswarms.single.global_best:   4%|██▉                                                                      |8/200, best_cost=-454286.6036005734"
     ]
    },
    {
     "name": "stdout",
     "output_type": "stream",
     "text": [
      " LOG:    8   3 2.75 2.22 3.54 16.92 -454250.080566\n",
      " LOG:    9   1 1.06 1.72 3.35 56.12 -454110.650496\n",
      " LOG:    9   2 1.07 2.21 3.34 34.01 -454268.020908\n"
     ]
    },
    {
     "name": "stderr",
     "output_type": "stream",
     "text": [
      "pyswarms.single.global_best:   4%|███▎                                                                     |9/200, best_cost=-454286.6036005734"
     ]
    },
    {
     "name": "stdout",
     "output_type": "stream",
     "text": [
      " LOG:    9   3 2.79 2.16 3.43 4.07 -454153.429831\n",
      " LOG:   10   1 2.77 1.81 3.51 51.02 -454224.120624\n",
      " LOG:   10   2 1.95 2.42 3.49 26.78 -454300.792833\n"
     ]
    },
    {
     "name": "stderr",
     "output_type": "stream",
     "text": [
      "pyswarms.single.global_best:   5%|███▌                                                                    |10/200, best_cost=-454300.7928328196"
     ]
    },
    {
     "name": "stdout",
     "output_type": "stream",
     "text": [
      " LOG:   10   3 2.77 2.20 3.42 2.04 -454047.932164\n",
      " LOG:   11   1 1.12 2.04 3.62 43.10 -454271.502549\n",
      " LOG:   11   2 2.75 2.60 3.59 20.27 -454285.107622\n"
     ]
    },
    {
     "name": "stderr",
     "output_type": "stream",
     "text": [
      "pyswarms.single.global_best:   6%|███▉                                                                    |11/200, best_cost=-454300.7928328196"
     ]
    },
    {
     "name": "stdout",
     "output_type": "stream",
     "text": [
      " LOG:   11   3 2.71 2.28 3.43 20.13 -454247.752207\n",
      " LOG:   12   1 2.55 2.29 3.65 34.18 -454294.531426\n",
      " LOG:   12   2 2.91 2.69 3.60 18.43 -454276.294812\n"
     ]
    },
    {
     "name": "stderr",
     "output_type": "stream",
     "text": [
      "pyswarms.single.global_best:   6%|████▎                                                                   |12/200, best_cost=-454300.7928328196"
     ]
    },
    {
     "name": "stdout",
     "output_type": "stream",
     "text": [
      " LOG:   12   3 2.42 2.39 3.41 42.42 -454244.447221\n",
      " LOG:   13   1 0.78 2.54 3.62 25.97 -454306.161144\n",
      " LOG:   13   2 2.86 2.67 3.54 19.84 -454272.860663\n"
     ]
    },
    {
     "name": "stderr",
     "output_type": "stream",
     "text": [
      "pyswarms.single.global_best:   6%|████▋                                                                   |13/200, best_cost=-454306.1611438353"
     ]
    },
    {
     "name": "stdout",
     "output_type": "stream",
     "text": [
      " LOG:   13   3 2.15 2.50 3.40 60.15 -454096.040575\n",
      " LOG:   14   1 1.88 2.77 3.56 18.57 -454268.797269\n",
      " LOG:   14   2 2.10 2.50 3.43 25.17 -454289.929275\n"
     ]
    },
    {
     "name": "stderr",
     "output_type": "stream",
     "text": [
      "pyswarms.single.global_best:   7%|█████                                                                   |14/200, best_cost=-454306.1611438353"
     ]
    },
    {
     "name": "stdout",
     "output_type": "stream",
     "text": [
      " LOG:   14   3 1.82 2.54 3.54 65.47 -454110.880143\n",
      " LOG:   15   1 2.20 2.91 3.48 15.30 -454217.168428\n",
      " LOG:   15   2 1.19 2.31 3.35 30.49 -454281.237877\n"
     ]
    },
    {
     "name": "stderr",
     "output_type": "stream",
     "text": [
      "pyswarms.single.global_best:   8%|█████▍                                                                  |15/200, best_cost=-454306.1611438353"
     ]
    },
    {
     "name": "stdout",
     "output_type": "stream",
     "text": [
      " LOG:   15   3 1.88 2.51 3.67 58.00 -454220.660485\n",
      " LOG:   16   1 1.86 2.96 3.39 16.18 -454182.098757\n",
      " LOG:   16   2 0.65 2.24 3.32 33.79 -454264.875831\n"
     ]
    },
    {
     "name": "stderr",
     "output_type": "stream",
     "text": [
      "pyswarms.single.global_best:   8%|█████▊                                                                  |16/200, best_cost=-454306.1611438353"
     ]
    },
    {
     "name": "stdout",
     "output_type": "stream",
     "text": [
      " LOG:   16   3 1.93 2.43 3.35 43.86 -454220.583229\n",
      " LOG:   17   1 1.30 2.74 3.39 21.18 -454246.568582\n",
      " LOG:   17   2 0.51 2.31 3.34 34.61 -454265.164017\n"
     ]
    },
    {
     "name": "stderr",
     "output_type": "stream",
     "text": [
      "pyswarms.single.global_best:   8%|██████                                                                  |17/200, best_cost=-454306.1611438353"
     ]
    },
    {
     "name": "stdout",
     "output_type": "stream",
     "text": [
      " LOG:   17   3 1.95 2.33 3.45 23.69 -454284.726505\n",
      " LOG:   18   1 0.47 2.43 3.44 27.22 -454295.665353\n",
      " LOG:   18   2 1.03 2.44 3.39 30.54 -454288.187865\n"
     ]
    },
    {
     "name": "stderr",
     "output_type": "stream",
     "text": [
      "pyswarms.single.global_best:   9%|██████▍                                                                 |18/200, best_cost=-454306.1611438353"
     ]
    },
    {
     "name": "stdout",
     "output_type": "stream",
     "text": [
      " LOG:   18   3 2.03 2.28 3.55 6.22 -454236.860051\n",
      " LOG:   19   1 2.87 2.17 3.46 32.43 -454290.994994\n",
      " LOG:   19   2 1.81 2.56 3.48 24.48 -454293.921941\n"
     ]
    },
    {
     "name": "stderr",
     "output_type": "stream",
     "text": [
      "pyswarms.single.global_best:  10%|██████▊                                                                 |19/200, best_cost=-454306.1611438353"
     ]
    },
    {
     "name": "stdout",
     "output_type": "stream",
     "text": [
      " LOG:   19   3 2.09 2.30 3.67 3.85 -454246.977291\n",
      " LOG:   20   1 1.16 2.05 3.52 34.25 -454290.527334\n",
      " LOG:   20   2 2.49 2.66 3.55 19.98 -454276.393984\n"
     ]
    },
    {
     "name": "stderr",
     "output_type": "stream",
     "text": [
      "pyswarms.single.global_best:  10%|███████▏                                                                |20/200, best_cost=-454306.1611438353"
     ]
    },
    {
     "name": "stdout",
     "output_type": "stream",
     "text": [
      " LOG:   20   3 2.06 2.36 3.34 12.00 -454124.722857\n",
      " LOG:   21   1 2.36 2.10 3.59 30.35 -454302.279373\n",
      " LOG:   21   2 2.69 2.71 3.58 19.00 -454275.693038\n"
     ]
    },
    {
     "name": "stderr",
     "output_type": "stream",
     "text": [
      "pyswarms.single.global_best:  10%|███████▌                                                                |21/200, best_cost=-454306.1611438353"
     ]
    },
    {
     "name": "stdout",
     "output_type": "stream",
     "text": [
      " LOG:   21   3 1.85 2.46 3.49 21.63 -454276.971992\n",
      " LOG:   22   1 0.15 2.25 3.63 23.71 -454303.250506\n",
      " LOG:   22   2 2.42 2.64 3.54 22.07 -454289.190247\n"
     ]
    },
    {
     "name": "stderr",
     "output_type": "stream",
     "text": [
      "pyswarms.single.global_best:  11%|███████▉                                                                |22/200, best_cost=-454306.1611438353"
     ]
    },
    {
     "name": "stdout",
     "output_type": "stream",
     "text": [
      " LOG:   22   3 1.93 2.54 3.59 32.60 -454297.497042\n",
      " LOG:   23   1 1.52 2.53 3.62 18.91 -454282.342245\n",
      " LOG:   23   2 1.88 2.52 3.47 27.28 -454299.485325\n"
     ]
    },
    {
     "name": "stderr",
     "output_type": "stream",
     "text": [
      "pyswarms.single.global_best:  11%|███████▉                                                                |22/200, best_cost=-454306.1611438353\n",
      "2023-03-19 14:50:05,914 - pyswarms.single.global_best - INFO - Optimization finished | best cost: -454306.1611438353, best pos: [ 0.77842679  2.53863244  3.62367608 25.965376  ]\n"
     ]
    },
    {
     "name": "stdout",
     "output_type": "stream",
     "text": [
      " LOG:   23   3 1.97 2.62 3.65 42.43 -454274.959685\n",
      " Log: Saving the best cost energy value for every itreation\n",
      " LOG: the best cost and The best position returned by PSO\n",
      " LOG:  -454306.1611438353 [ 0.77842679  2.53863244  3.62367608 25.965376  ]\n",
      " Log: Generating the final structure\n"
     ]
    }
   ],
   "source": [
    "import os.path\n",
    "import sys\n",
    "import subprocess\n",
    "import os \n",
    "import re\n",
    "import pyswarms as ps\n",
    "import numpy as np\n",
    "import time \n",
    "from natsort import natsorted\n",
    "from pyswarms.single.global_best import GlobalBestPSO\n",
    "from pyswarms.single.local_best import LocalBestPSO\n",
    "from pyswarms.backend.operators import compute_pbest, compute_objective_function\n",
    "from collections import deque\n",
    "\n",
    "\n",
    "class bcolors:\n",
    "    HEADER = '\\033[92m'\n",
    "    BLUE = '\\033[94m'\n",
    "    WARNING = '\\033[91m'\n",
    "    BOLD = '\\033[1m'\n",
    "    END = '\\033[0m'\n",
    "\n",
    "# print header in the log file \n",
    "\n",
    "print(bcolors.HEADER + bcolors.BOLD + r\"\"\"\n",
    "+-+-+-+-+-+ +-+-+-+-+-+-+-+-+-+ +-+-+-+ +-+-+-+-+-+-+-+-+-+-+-+-+-+-+\n",
    "           ____ _____  _    ____ _  ______ _____ _   _\n",
    "          / ___|_   _|/ \\  / ___| |/ / ___| ____| \\ | |\n",
    "          \\___ \\ | | / _ \\| |   | ' / |  _|  _| |  \\| |\n",
    "           ___) || |/ ___ \\ |___| . \\ |_| | |___| |\\  |\n",
    "          |____/ |_/_/   \\_\\____|_|\\_\\____|_____|_| \\_|\n",
    "                 Stack generator for supramolecules\n",
    "+-+-+-+-+-+ +-+-+-+-+-+-+-+-+-+ +-+-+-+ +-+-+-+-+-+-+-+-+-+-+-+-+-+-+\n",
    "\"\"\"\n",
    "+bcolors.END \n",
    ")\n",
    "\n",
    "# set default values  \n",
    "# no default values for atom_1, atom_2, and atom_3; they must be entered by the user; otherwise\n",
    "# the program will stop. \n",
    "\n",
    "input_param={}\n",
    "start_opts={}\n",
    "end_opts={}\n",
    "options={}\n",
    "\n",
    "input_param[\"tx_lower\"]=0.0\n",
    "input_param[\"tx_upper\"]=3.0\n",
    "input_param[\"ty_lower\"]=0.0\n",
    "input_param[\"ty_upper\"]=3.0\n",
    "input_param[\"tz_lower\"]=3.3\n",
    "input_param[\"tz_upper\"]=3.7\n",
    "input_param[\"twist_lower\"]=0.0\n",
    "input_param[\"twist_upper\"]=50.0\n",
    "input_param[\"rot_type\"]=0\n",
    "input_param[\"stack_size\"]=3\n",
    "input_param[\"input_struct\"]='input.xyz'\n",
    "input_param[\"pso_type\"]='Globalbest'\n",
    "input_param[\"ftol\"]=10\n",
    "input_param[\"ftol_iter\"]=5\n",
    "input_param[\"maxiterations\"]=100\n",
    "input_param[\"nproc_dftb\"]=1\n",
    "input_param[\"nparticle_pso\"]=10\n",
    "input_param['c1']=0.5\n",
    "input_param['c2']=2.5\n",
    "input_param['w']=9\n",
    "input_param['dimensions']=1\n",
    "input_param['c1_start']=0.5\n",
    "input_param['c1_end']=2.5\n",
    "input_param['c2_start']=0.5\n",
    "input_param['c2_end']=2.5\n",
    "input_param['w_start']=0.9\n",
    "input_param['w_end']=0.4\n",
    "input_param['k']=6\n",
    "input_param['p']=2\n",
    "input_param[\"label\"]='supramolecule'\n",
    "\n",
    "atom_num=1\n",
    "#Reading input from the user \n",
    "with open('user_input.user','r') as fp:\n",
    "    for line in fp:\n",
    "        if not len(line.strip())==0 and not line.lstrip().startswith(\"#\"):\n",
    "            name,var = line.partition('=')[::2]\n",
    "            var=var.strip()\n",
    "            if(len(re.findall(\"[0-9-+]+\", var))>1 and name=='atoms'):#More than one element in atoms\n",
    "                atom_list = re.findall(\"[0-9-+]+\", var)\n",
    "                for element in atom_list:\n",
    "                    input_param['atom_'+str(atom_num)]=element\n",
    "                    atom_num+=1\n",
    "                \n",
    "            if re.match(\"^[0-9-+]*$\", var):\n",
    "                var=int(var)\n",
    "            elif re.match(\"^[0-9-+.]*$\", var):   \n",
    "                var=float(var)\n",
    "            input_param[name.strip()]=var             \n",
    "fp.close()\n",
    "\n",
    "\n",
    "# check if atom_1, atom_2, and atom_3 are defined; if not, stop the program\n",
    "if not \"atom_1\" in input_param or not \"atom_2\" in input_param or not \"atom_3\" in input_param:\n",
    "    print(\" Log: Enter atom numbers for the atom_1, atom_2, and atom_3\")\n",
    "    print(\" Log: Exit ... \") \n",
    "    sys.exit()\n",
    "\n",
    "\n",
    "# check if input xyz file is present \n",
    "if not os.path.isfile(input_param[\"input_struct\"]):\n",
    "    print(\" Log: xyz file \"+input_param[\"input_struct\"]+ \" not found\")\n",
    "    print(\" Log: Exit ... \") \n",
    "    sys.exit()\n",
    "\n",
    "# print the input parameters along with default settings, if any \n",
    "print( \" LOG: print all key and values used by the code \")\n",
    "print( \" LOG: note that some of the keys displayed here may not be used by the code\")\n",
    "for key in input_param:\n",
    "    print( \" LOG: \"+key+\" = \"+str(input_param[key]))\n",
    "\n",
    "\n",
    "global atom_1,atom_2,atom_3,input_struct,pso_type,nproc,rotation_type,neighbour,distance,n_particles,bounds,dimensions,param_len,cost_history\n",
    "\n",
    "#renaming the variables for simplicity \n",
    "\n",
    "tx_upper = input_param['tx_upper']\n",
    "tx_lower = input_param['tx_lower']\n",
    "ty_upper = input_param['ty_upper']\n",
    "ty_lower = input_param['ty_lower']\n",
    "tz_upper = input_param['tz_upper']\n",
    "tz_lower = input_param['tz_lower']\n",
    "twist_upper = input_param['twist_upper']\n",
    "twist_lower = input_param['twist_lower']\n",
    "rot_type = input_param['rot_type']\n",
    "atom_1 = input_param['atom_1']\n",
    "atom_2 = input_param['atom_2']\n",
    "atom_3 = input_param['atom_3']\n",
    "input_struct = input_param['input_struct']\n",
    "rotation_type=input_param[\"rot_type\"]\n",
    "size = input_param['stack_size']\n",
    "pso_type = input_param['pso_type']\n",
    "ftol = input_param['ftol']\n",
    "ftol_iter = input_param['ftol_iter']\n",
    "iterations = input_param['maxiterations'] \n",
    "nproc=input_param['nproc_dftb']\n",
    "dimensions=input_param['dimension']\n",
    "options['c1']=input_param['c1']\n",
    "options['c2']=input_param['c2']\n",
    "options['w']=input_param['w']\n",
    "\n",
    "start_opts['c1'] = input_param['c1_start']\n",
    "start_opts['c2'] = input_param['c2_start']\n",
    "start_opts['w'] = input_param['w_start']\n",
    "end_opts['c1'] = input_param['c1_end']\n",
    "end_opts['c2'] = input_param['c2_end']\n",
    "end_opts['w'] = input_param['w_end']\n",
    "\n",
    "neighbour=input_param['k']\n",
    "distance=input_param['p']\n",
    "oh_strategy = eval(input_param['oh_strategy'])\n",
    "label=input_param[\"label\"]\n",
    "n_particles=input_param[\"nparticle_pso\"]\n",
    "\n",
    "cost_history=[]\n",
    "position_history=[]\n",
    "\n",
    "if(dimensions==1):\n",
    "    tx_upper=tx_lower=0\n",
    "    ty_upper=ty_lower=0\n",
    "    tz_upper=tz_lower=3.5\n",
    "    ub=[twist_upper]\n",
    "    lb=[twist_lower]\n",
    "    param_len=1\n",
    "elif(dimensions==2):\n",
    "    tx_upper=tx_lower=0\n",
    "    ty_upper=ty_lower=0\n",
    "    ub=[tz_upper,twist_upper]\n",
    "    lb=[tz_lower,twist_lower]\n",
    "    param_len=2\n",
    "elif(dimensions==3):\n",
    "    ty_upper=ty_lower=0\n",
    "    ub=[tx_upper,tz_upper,twist_upper]\n",
    "    lb=[tx_lower,tz_lower,twist_lower]\n",
    "    param_len=3\n",
    "elif(dimensions==4):\n",
    "    ub = [input_param['tx_upper'],input_param['ty_upper'],input_param['tz_upper'],input_param['twist_upper']]\n",
    "    lb = [input_param['tx_lower'],input_param['ty_lower'],input_param['tz_lower'],input_param['twist_lower']]\n",
    "    param_len=4\n",
    "    \n",
    "else:\n",
    "    print(bcolors.WARNING + \"ERROR: Wrong value is given.Check user.input file\" + bcolors.END)\n",
    "    \n",
    "bounds =(lb,ub)    \n",
    "\n",
    "\n",
    "def env_check():\n",
    "    completedProc = subprocess.run('./check_env.sh')\n",
    "    if(completedProc.returncode==1):\n",
    "        print(bcolors.WARNING + \" ERROR: dftb+ input file is not found\" + bcolors.END)\n",
    "        exit()\n",
    "    elif(completedProc.returncode==2):\n",
    "        print(bcolors.WARNING + \" ERROR: dftb+ executable not found on the path\"+ bcolors.END )\n",
    "        exit()\n",
    "    elif(completedProc.returncode==3):\n",
    "        print(bcolors.WARNING +\" ERROR: dftb+ test run not successful. Check dftb+ input file\"+ bcolors.END)\n",
    "        print(bcolors.WARNING +\" ERROR: check dftb+ parameters directory path\"+ bcolors.END)\n",
    "        print(bcolors.WARNING +\" ERROR: note that the directory path should terminate with /\"+ bcolors.END)\n",
    "        print(bcolors.WARNING +\" ERROR: stop ... \"+ bcolors.END)\n",
    "        exit()\n",
    "    else:\n",
    "        return 1\n",
    "def optimize(objective_func, maxiters, oh_strategy,start_opts, end_opts):\n",
    "    global pso_type,neighbour,distance,n_particles,bounds,dimensions,cost_history,position_history\n",
    "   \n",
    "    if(pso_type=='Globalbest'):\n",
    "        opt = ps.single.GlobalBestPSO(n_particles, dimensions=dimensions, options=start_opts,\n",
    "                                      bounds=bounds, oh_strategy=oh_strategy, ftol=ftol, ftol_iter=ftol_iter)\n",
    "    elif(pso_type=='Localbest'):\n",
    "        opt = ps.single.LocalBestPSO(n_particles, dimensions=dimensions, options=start_opts, bounds=bounds, \n",
    "                                     oh_strategy=oh_strategy, ftol=ftol, ftol_iter=ftol_iter)\n",
    "   \n",
    "    swarm = opt.swarm\n",
    "    opt.bh.memory = swarm.position\n",
    "    opt.vh.memory = swarm.velocity\n",
    "    swarm.pbest_cost = np.full(opt.swarm_size[0], np.inf)\n",
    "\n",
    "    ftol_history = deque(maxlen=ftol_iter)\n",
    "    for i in range(1,maxiters+1):\n",
    "        swarm.options = opt.oh( opt.options, iternow=i, itermax=maxiters, end_opts=end_opts )\n",
    "        print(\"Iteration:\", i,\" Options: \", swarm.options)  \n",
    "        swarm.current_cost =  compute_objective_function(swarm, objective_func)\n",
    "        swarm.pbest_pos, swarm.pbest_cost = compute_pbest(swarm)\n",
    "\n",
    "        best_cost_yet_found = swarm.best_cost\n",
    "        if(pso_type=='Globalbest'):\n",
    "            swarm.best_pos, swarm.best_cost = opt.top.compute_gbest(swarm)\n",
    "        if(pso_type=='Localbest'):\n",
    "            swarm.best_pos, swarm.best_cost = opt.top.compute_gbest(swarm,p=distance,k=neighbour)\n",
    "\n",
    "        print(\" LOG: \" + \"Iteration \"+str(i)+\"/\"+str(maxiters)  + \"\\t\" + 'best_cost ='+ str(swarm.best_cost)+\"\\n\")\n",
    "        cost_history.append(swarm.best_cost)\n",
    "        position_history.append(swarm.best_pos.tolist())\n",
    "        delta = (\n",
    "                np.abs(swarm.best_cost - best_cost_yet_found)\n",
    "                < ftol\n",
    "            )\n",
    "        if i < ftol_iter+1: \n",
    "            ftol_history.append(delta)\n",
    "        else:\n",
    "            ftol_history.append(delta)\n",
    "            if all(ftol_history):\n",
    "                break \n",
    "\n",
    "     \n",
    "\n",
    "        swarm.velocity = opt.top.compute_velocity(\n",
    "            swarm, opt.velocity_clamp, opt.vh, opt.bounds\n",
    "        )\n",
    "        swarm.position = opt.top.compute_position(\n",
    "            swarm, opt.bounds, opt.bh\n",
    "        )\n",
    "    final_best_cost = swarm.best_cost.copy()\n",
    "    final_best_pos = swarm.pbest_pos[\n",
    "        swarm.pbest_cost.argmin()\n",
    "    ].copy()\n",
    "    return final_best_cost, final_best_pos\n",
    "\n",
    "\n",
    "counter = 0\n",
    "def count():\n",
    "    global counter\n",
    "    counter += 1\n",
    "    \n",
    "def energy_cal(tx,ty,tz,twist):\n",
    "        configuration_generate(tx,ty,tz,twist)\n",
    "        try:\n",
    "            output = subprocess.check_output('./run_dftb_updated.sh generated_'+label+'_'+str(size)+'.xyz' ,shell=True)\n",
    "        except subprocess.CalledProcessError as grepexc:     \n",
    "            print(bcolors.WARNING +\" ERROR: error code\", grepexc.returncode, grepexc.output+ bcolors.END)\n",
    "        if(re.findall(r\"[-+]?(?:\\d*\\.\\d+|[eE][+-]\\d+)\", str(output.strip()))):\n",
    "            energy_val = float(re.findall(r\"[-+]?(?:\\d*\\.\\d+|[eE][+-]\\d+)\", str(output.strip()))[0])\n",
    "        return energy_val\n",
    "    \n",
    "    \n",
    "def energy_min(params):\n",
    "    global param_len\n",
    "\n",
    "    energy_value_list=[]\n",
    "    count()\n",
    "    if counter==1:\n",
    "        print(\" LOG: iteration,pso_particle,tx,ty,tz,twist,Energy\")\n",
    "    x=0\n",
    "    if(param_len==1):\n",
    "        for parm in range(len(params)):\n",
    "            x+=1\n",
    "            tx=ty=0\n",
    "            tz=3.5\n",
    "            twist = params[parm][0]  \n",
    "            energy_val = energy_cal(tx,ty,tz,twist)\n",
    "            energy_value_list.append(energy_val)\n",
    "            print(\" LOG: %4d %3d %0.2f %0.2f %0.2f %0.2f %0.6f\" %(counter,x,tx,ty,tz,twist,energy_val))\n",
    "        return energy_value_list\n",
    "    elif(param_len==2):\n",
    "        for parm in range(len(params)):\n",
    "            x+=1\n",
    "            tx=ty=0\n",
    "            tz = params[parm][0]\n",
    "            twist = params[parm][1]\n",
    "            energy_val = energy_cal(tx,ty,tz,twist)\n",
    "            energy_value_list.append(energy_val)\n",
    "            print(\" LOG: %4d %3d %0.2f %0.2f %0.2f %0.2f %0.6f\" %(counter,x,tx,ty,tz,twist,energy_val))\n",
    "        return energy_value_list\n",
    "    elif(param_len==3):\n",
    "        for parm in range(len(params)):\n",
    "            x+=1\n",
    "            ty=0\n",
    "            tx = params[parm][0]\n",
    "            tz = params[parm][1]\n",
    "            twist = params[parm][2] \n",
    "            energy_val = energy_cal(tx,ty,tz,twist)\n",
    "            energy_value_list.append(energy_val)\n",
    "            print(\" LOG: %4d %3d %0.2f %0.2f %0.2f %0.2f %0.6f\" %(counter,x,tx,ty,tz,twist,energy_val))\n",
    "        return energy_value_list\n",
    "    elif(param_len==4):\n",
    "        for parm in range(len(params)):\n",
    "            x+=1\n",
    "            tx = params[parm][0]\n",
    "            ty = params[parm][1]\n",
    "            tz = params[parm][2]\n",
    "            twist = params[parm][3] \n",
    "            energy_val = energy_cal(tx,ty,tz,twist)\n",
    "            energy_value_list.append(energy_val)\n",
    "            print(\" LOG: %4d %3d %0.2f %0.2f %0.2f %0.2f %0.6f\" %(counter,x,tx,ty,tz,twist,energy_val))\n",
    "        return energy_value_list\n",
    "\n",
    "def opt_struct(params):\n",
    "    print(\" Log: Generating the final structure\")\n",
    "    global param_len\n",
    "    if(param_len==1): \n",
    "            tx=ty=0\n",
    "            tz=3.5\n",
    "            twist = params[0]  \n",
    "            configuration_generate(tx,ty,tz,twist)\n",
    "    elif(param_len==2):\n",
    "            tx=ty=0\n",
    "            tz = params[0]\n",
    "            twist = params[1]\n",
    "            configuration_generate(tx,ty,tz,twist)         \n",
    "    elif(param_len==3):\n",
    "            ty=0\n",
    "            tx = params[0]\n",
    "            tz = params[1]\n",
    "            twist = params[2] \n",
    "            configuration_generate(tx,ty,tz,twist)\n",
    "    elif(param_len==4):\n",
    "            tx = params[0]\n",
    "            ty = params[1]\n",
    "            tz = params[2]\n",
    "            twist = params[3] \n",
    "            configuration_generate(tx,ty,tz,twist)\n",
    "            \n",
    "\n",
    "            \n",
    "def energy_history(cost_history,position_history):\n",
    "    print(\" Log: Saving the best cost energy value for every itreation\")\n",
    "    header = [\"Iteration_Number\", \"Best_cost_Energy\", 'tx','ty','tz','twist']\n",
    "    iter_num=0\n",
    "    with open(\"Energy_position_history.xyz\",\"w\") as fp:\n",
    "        fp.writelines('{:>15}  '.format(head) for head in header) \n",
    "        fp.write(\"\\n\")\n",
    "        for pos in position_history:\n",
    "            position = \" \".join(map(str, pos))\n",
    "            en = cost_history[iter_num]\n",
    "            iter_num=iter_num+1\n",
    "            data = []\n",
    "            data.extend((iter_num, en,position))\n",
    "            fp.writelines('{:>10}      '.format(values) for values in data)\n",
    "            fp.write(\"\\n\")\n",
    "    fp.close()\n",
    "       \n",
    "fp.close()\n",
    "# re-orient the given configuration so that atom_1-atom_2 is along x-axis and\n",
    "# the plane normal is along z-axis \n",
    "\n",
    "def configuration_generate(tx,ty,tz,twist):\n",
    "    tmpconfig='tmpconfig'\n",
    "    input_in=\"python3 orient.py \"+ input_struct + \" -p \" + str(atom_1) +\" \"+ str(atom_2) +\" \" + str(atom_3) + \" -tc\t> \" + tmpconfig +\"0.xyz\"\n",
    "    os.system(input_in)\n",
    "\n",
    "    if(rotation_type==1):\n",
    "        rot = twist\n",
    "        orient = -1\n",
    "        for i in range(1,size):\n",
    "            rot = rot * orient\n",
    "            input_in=\"python3 orient.py \"+ tmpconfig+str(i-1)+\".xyz\" + \" -tz \" + str(tz)  + \" -rz \" + str(rot) +\"  > tmpconfig\"+str(i)+\".xyz\"\n",
    "            os.system(input_in)\n",
    "\n",
    "    elif(rotation_type==2):\n",
    "        for i in range(1,size):\n",
    "            input_in=\"python3 orient.py \"+ tmpconfig+str(i-1)+\".xyz\" + \" -tz \" + str(tz) + \" -tx \" + str(tx)  + \" -ty \" + str(ty)   + \" -rz \" + str(twist) +\"  > tmpconfig\"+str(i)+\".xyz\"\n",
    "            os.system(input_in)\n",
    "    else:\n",
    "        for i in range(1,size):\n",
    "            input_in=\"python3 orient.py \"+ tmpconfig+str(i-1)+\".xyz\" + \" -tz \" + str(tz) + \" -tx \" + str(tx)  + \" -ty \" + str(ty)   + \" -rz \" + str(twist) +\"  > tmpconfig\"+str(i)+\".xyz\"\n",
    "            os.system(input_in)\n",
    "\n",
    "  #combining the files \n",
    "    with open(input_struct,'r') as fp:\n",
    "        natom = fp.readline().rstrip()\n",
    "    fp.close()\n",
    "    \n",
    "    totatom=int(natom)*size\n",
    "    files = [f for f in os.listdir('.') if os.path.isfile(f) if 'tmpconfig' in f]\n",
    "    rotated_files = natsorted(files)\n",
    "\n",
    "  \n",
    "    with open('generated_'+label+'_'+str(size)+'.xyz','w') as f:\n",
    "        f.write(str(totatom)+\"\\n\")\n",
    "        f.write(\"\\n\")\n",
    "  \n",
    "        for file in rotated_files:\n",
    "            with open(file,\"r\") as fp: \n",
    "                fp.readline()\n",
    "                fp.readline()\n",
    "                for atoms in range(int(natom)): \n",
    "                    line = fp.readline().split()\n",
    "                    f.write(\"%s \" %(line[0])+\" \")\n",
    "                    for i in range(1,len(line)):\n",
    "                        f.write(\"%-7.3f\" %(float(line[i]))+\" \")\n",
    "                    f.write(\"\\n\")\n",
    "  \n",
    "\n",
    "        os.system(\"rm -f tmpconfig*\")\n",
    "        \n",
    "if(env_check()):\n",
    "    print(\" LOG: All inputs are set \\n\")\n",
    "    if(pso_type=='Localbest'):\n",
    "        options['k']=neighbour\n",
    "        options['p'] = distance\n",
    "        if(oh_strategy == False): \n",
    "            pso_type='Localbest'\n",
    "            print(\" LOG: Running LocalbestPSO algorithm\")\n",
    "            optimizer = LocalBestPSO(n_particles=n_particles, dimensions=dimensions,\n",
    "                                     options=options,bounds=bounds,ftol=ftol,ftol_iter=ftol_iter)\n",
    "            cost, pos = optimizer.optimize(energy_min,iterations)\n",
    "            energy_history(optimizer.cost_history,optimizer.position_history)\n",
    "            \n",
    "        elif(oh_strategy == True):\n",
    "            print(\" LOG: Running LocalbestPSO algorithm with oh_strategy\")\n",
    "            pso_type='Localbest'\n",
    "            start_opts['k']=end_opts['k']=neighbour\n",
    "            start_opts['p']=end_opts['p']=distance\n",
    "            oh_strategy={ \"w\":'exp_decay', \"c1\":'nonlin_mod',\"c2\":'lin_variation'}\n",
    "            cost, pos=optimize(energy_min, iterations, oh_strategy, start_opts, end_opts)\n",
    "            energy_history(cost_history,position_history)\n",
    "        \n",
    "        \n",
    "        \n",
    "    elif(pso_type=='Globalbest'):\n",
    "        \n",
    "        \n",
    "        if(oh_strategy==False):\n",
    "            print(\" LOG: Running GlobalbestPSO algorithm\")\n",
    "            pso_type='Globalbest'\n",
    "            optimizer = GlobalBestPSO(n_particles=n_particles, dimensions=dimensions,options=options,\n",
    "                                      bounds=bounds,ftol=ftol,ftol_iter=ftol_iter)\n",
    "            cost, pos = optimizer.optimize(energy_min,iterations)\n",
    "            energy_history(optimizer.cost_history,optimizer.pos_history)\n",
    "            \n",
    "        elif(oh_strategy==True):\n",
    "            pso_type='Globalbest'\n",
    "            print(\" LOG: Running GlobalbestPSO algorithm with oh_strategy\")\n",
    "            oh_strategy={ \"w\":'exp_decay', \"c1\":'nonlin_mod',\"c2\":'lin_variation'}\n",
    "            cost, pos=optimize(energy_min, iterations, oh_strategy, start_opts, end_opts)\n",
    "            energy_history(cost_history,position_history)\n",
    "                \n",
    "        \n",
    "     \n",
    "\n",
    "    print(\" LOG: the best cost and The best position returned by PSO\")\n",
    "    print(\" LOG: \", cost,pos)\n",
    "    opt_struct(pos)\n",
    "    \n",
    "\n",
    "\n",
    "\n",
    "\n",
    "\n",
    "# In[ ]:\n",
    "\n",
    "\n",
    "\n",
    "\n",
    "\n",
    "# In[ ]:\n",
    "\n",
    "\n",
    "\n",
    "\n",
    "\n",
    "# In[ ]:\n",
    "\n",
    "\n",
    "\n",
    "\n",
    "\n",
    "# In[ ]:\n",
    "\n",
    "\n",
    "\n",
    "    \n",
    "\n",
    "\n",
    "# In[ ]:\n",
    "\n",
    "\n",
    "\n",
    "\n"
   ]
  },
  {
   "cell_type": "code",
   "execution_count": null,
   "id": "d7ae3d99",
   "metadata": {},
   "outputs": [],
   "source": []
  },
  {
   "cell_type": "code",
   "execution_count": null,
   "id": "e40ad80b",
   "metadata": {},
   "outputs": [],
   "source": []
  }
 ],
 "metadata": {
  "kernelspec": {
   "display_name": "Python 3 (ipykernel)",
   "language": "python",
   "name": "python3"
  },
  "language_info": {
   "codemirror_mode": {
    "name": "ipython",
    "version": 3
   },
   "file_extension": ".py",
   "mimetype": "text/x-python",
   "name": "python",
   "nbconvert_exporter": "python",
   "pygments_lexer": "ipython3",
   "version": "3.9.12"
  }
 },
 "nbformat": 4,
 "nbformat_minor": 5
}
