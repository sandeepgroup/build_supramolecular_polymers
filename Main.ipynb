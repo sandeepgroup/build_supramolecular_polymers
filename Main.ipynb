{
 "cells": [
  {
   "cell_type": "code",
   "execution_count": 9,
   "id": "1ecfe9f0",
   "metadata": {},
   "outputs": [
    {
     "name": "stderr",
     "output_type": "stream",
     "text": [
      "2023-03-16 11:36:08,793 - pyswarms.single.global_best - INFO - Optimize for 200 iters with {'c1': 0.5, 'c2': 0.3, 'w': 0.9}\n"
     ]
    },
    {
     "name": "stdout",
     "output_type": "stream",
     "text": [
      "\u001b[92m\u001b[1m\n",
      "+-+-+-+-+-+ +-+-+-+-+-+-+-+-+-+ +-+-+-+ +-+-+-+-+-+-+-+-+-+-+-+-+-+-+\n",
      "           ____ _____  _    ____ _  ______ _____ _   _\n",
      "          / ___|_   _|/ \\  / ___| |/ / ___| ____| \\ | |\n",
      "          \\___ \\ | | / _ \\| |   | ' / |  _|  _| |  \\| |\n",
      "           ___) || |/ ___ \\ |___| . \\ |_| | |___| |\\  |\n",
      "          |____/ |_/_/   \\_\\____|_|\\_\\____|_____|_| \\_|\n",
      "                 Stack generator for supramolecules\n",
      "+-+-+-+-+-+ +-+-+-+-+-+-+-+-+-+ +-+-+-+ +-+-+-+-+-+-+-+-+-+-+-+-+-+-+\n",
      "\u001b[0m\n",
      " LOG: print all key and values used by the code \n",
      " LOG: note that some of the keys displayed here may not be used by the code\n",
      " LOG: tx_lower = 0.0\n",
      " LOG: tx_upper = 3.0\n",
      " LOG: ty_lower = 0.0\n",
      " LOG: ty_upper = 3.0\n",
      " LOG: tz_lower = 3.3\n",
      " LOG: tz_upper = 3.7\n",
      " LOG: twist_lower = 0.0\n",
      " LOG: twist_upper = 180.0\n",
      " LOG: rot_type = 1\n",
      " LOG: stack_size = 2\n",
      " LOG: input_struct = input.xyz\n",
      " LOG: pso_type = Globalbest\n",
      " LOG: ener_tol = 1\n",
      " LOG: ener_tol_iter = 10\n",
      " LOG: maxiterations = 200\n",
      " LOG: nproc_dftb = 1\n",
      " LOG: nparticle_pso = 3\n",
      " LOG: c1 = 0.5\n",
      " LOG: c2 = 0.3\n",
      " LOG: w = 0.9\n",
      " LOG: dimensions = 1\n",
      " LOG: c1_start = 2.5\n",
      " LOG: c1_end = 0.5\n",
      " LOG: c2_start = 0.5\n",
      " LOG: c2_end = 2.5\n",
      " LOG: w_start = 0.9\n",
      " LOG: w_end = 0.4\n",
      " LOG: k = 6\n",
      " LOG: p = 2\n",
      " LOG: label = supramo\n",
      " LOG: dimension = 1\n",
      " LOG: atom_1 = 8\n",
      " LOG: atom_2 = 11\n",
      " LOG: atom_3 = 10\n",
      " LOG: atoms = 8,11,10\n",
      " LOG: oh_strategy = False\n",
      " LOG: dftb calculation successful on test (h2o) system. continue...\n",
      " LOG: All inputs are set \n",
      "\n",
      " LOG: Running GlobalbestPSO algorithm\n"
     ]
    },
    {
     "name": "stderr",
     "output_type": "stream",
     "text": [
      "\r",
      "pyswarms.single.global_best:   0%|                                        |0/200"
     ]
    },
    {
     "name": "stdout",
     "output_type": "stream",
     "text": [
      " LOG: iteration,pso_particle,tx,ty,tz,twist,Energy\n",
      " LOG:    1   1 0.00 0.00 3.50 137.11 -430908.502828\n",
      " LOG:    1   2 0.00 0.00 3.50 106.93 -429614.206429\n"
     ]
    },
    {
     "name": "stderr",
     "output_type": "stream",
     "text": [
      "pyswarms.single.global_best:   0%|          |1/200, best_cost=-430908.5028279712"
     ]
    },
    {
     "name": "stdout",
     "output_type": "stream",
     "text": [
      " LOG:    1   3 0.00 0.00 3.50 96.61 -423051.222646\n",
      " LOG:    2   1 0.00 0.00 3.50 137.85 -429678.140560\n",
      " LOG:    2   2 0.00 0.00 3.50 112.68 -432944.687587\n"
     ]
    },
    {
     "name": "stderr",
     "output_type": "stream",
     "text": [
      "pyswarms.single.global_best:   1%|          |2/200, best_cost=-432944.6875870511"
     ]
    },
    {
     "name": "stdout",
     "output_type": "stream",
     "text": [
      " LOG:    2   3 0.00 0.00 3.50 97.91 -423560.416558\n",
      " LOG:    3   1 0.00 0.00 3.50 135.80 -432618.517809\n",
      " LOG:    3   2 0.00 0.00 3.50 117.85 -434787.401029\n"
     ]
    },
    {
     "name": "stderr",
     "output_type": "stream",
     "text": [
      "pyswarms.single.global_best:   2%|▏        |3/200, best_cost=-434787.40102885704"
     ]
    },
    {
     "name": "stdout",
     "output_type": "stream",
     "text": [
      " LOG:    3   3 0.00 0.00 3.50 99.39 -424293.252751\n",
      " LOG:    4   1 0.00 0.00 3.50 133.10 -434914.347097\n",
      " LOG:    4   2 0.00 0.00 3.50 122.50 -435817.649347\n"
     ]
    },
    {
     "name": "stderr",
     "output_type": "stream",
     "text": [
      "pyswarms.single.global_best:   2%|▏         |4/200, best_cost=-435817.6493471105"
     ]
    },
    {
     "name": "stdout",
     "output_type": "stream",
     "text": [
      " LOG:    4   3 0.00 0.00 3.50 105.05 -428218.629636\n",
      " LOG:    5   1 0.00 0.00 3.50 128.67 -436239.186927\n",
      " LOG:    5   2 0.00 0.00 3.50 126.69 -436266.340146\n"
     ]
    },
    {
     "name": "stderr",
     "output_type": "stream",
     "text": [
      "pyswarms.single.global_best:   2%|▏        |5/200, best_cost=-436266.34014577355"
     ]
    },
    {
     "name": "stdout",
     "output_type": "stream",
     "text": [
      " LOG:    5   3 0.00 0.00 3.50 111.10 -432201.627245\n",
      " LOG:    6   1 0.00 0.00 3.50 124.54 -436100.267120\n",
      " LOG:    6   2 0.00 0.00 3.50 130.46 -435916.507388\n"
     ]
    },
    {
     "name": "stderr",
     "output_type": "stream",
     "text": [
      "pyswarms.single.global_best:   3%|▎        |6/200, best_cost=-436266.34014577355"
     ]
    },
    {
     "name": "stdout",
     "output_type": "stream",
     "text": [
      " LOG:    6   3 0.00 0.00 3.50 118.62 -434979.758514\n",
      " LOG:    7   1 0.00 0.00 3.50 121.88 -435698.304180\n",
      " LOG:    7   2 0.00 0.00 3.50 133.05 -434930.411496\n"
     ]
    },
    {
     "name": "stderr",
     "output_type": "stream",
     "text": [
      "pyswarms.single.global_best:   4%|▎         |7/200, best_cost=-436278.9225859349"
     ]
    },
    {
     "name": "stdout",
     "output_type": "stream",
     "text": [
      " LOG:    7   3 0.00 0.00 3.50 127.71 -436278.922586\n",
      " LOG:    8   1 0.00 0.00 3.50 123.89 -436017.074308\n",
      " LOG:    8   2 0.00 0.00 3.50 132.53 -435280.768391\n"
     ]
    },
    {
     "name": "stderr",
     "output_type": "stream",
     "text": [
      "pyswarms.single.global_best:   4%|▍         |8/200, best_cost=-436278.9225859349"
     ]
    },
    {
     "name": "stdout",
     "output_type": "stream",
     "text": [
      " LOG:    8   3 0.00 0.00 3.50 135.89 -432540.776730\n",
      " LOG:    9   1 0.00 0.00 3.50 126.57 -436265.301107\n",
      " LOG:    9   2 0.00 0.00 3.50 131.16 -435711.226708\n"
     ]
    },
    {
     "name": "stderr",
     "output_type": "stream",
     "text": [
      "pyswarms.single.global_best:   4%|▍         |9/200, best_cost=-436278.9225859349"
     ]
    },
    {
     "name": "stdout",
     "output_type": "stream",
     "text": [
      " LOG:    9   3 0.00 0.00 3.50 141.35 -422603.650551\n",
      " LOG:   10   1 0.00 0.00 3.50 129.19 -436169.191717\n",
      " LOG:   10   2 0.00 0.00 3.50 127.42 -436093.402367\n"
     ]
    },
    {
     "name": "stderr",
     "output_type": "stream",
     "text": [
      "pyswarms.single.global_best:   5%|▍        |10/200, best_cost=-436278.9225859349"
     ]
    },
    {
     "name": "stdout",
     "output_type": "stream",
     "text": [
      " LOG:   10   3 0.00 0.00 3.50 143.69 -418060.403770\n",
      " LOG:   11   1 0.00 0.00 3.50 130.93 -435786.995361\n",
      " LOG:   11   2 0.00 0.00 3.50 123.97 -436031.339852\n"
     ]
    },
    {
     "name": "stderr",
     "output_type": "stream",
     "text": [
      "pyswarms.single.global_best:   6%|▍        |11/200, best_cost=-436278.9225859349"
     ]
    },
    {
     "name": "stdout",
     "output_type": "stream",
     "text": [
      " LOG:   11   3 0.00 0.00 3.50 137.28 -430634.968445\n",
      " LOG:   12   1 0.00 0.00 3.50 131.41 -435629.387095\n",
      " LOG:   12   2 0.00 0.00 3.50 122.16 -435739.542698\n"
     ]
    },
    {
     "name": "stderr",
     "output_type": "stream",
     "text": [
      "pyswarms.single.global_best:   6%|▌        |12/200, best_cost=-436278.9225859349"
     ]
    },
    {
     "name": "stdout",
     "output_type": "stream",
     "text": [
      " LOG:   12   3 0.00 0.00 3.50 124.74 -436123.570107\n",
      " LOG:   13   1 0.00 0.00 3.50 128.43 -436244.298878\n",
      " LOG:   13   2 0.00 0.00 3.50 122.97 -435896.855733\n"
     ]
    },
    {
     "name": "stderr",
     "output_type": "stream",
     "text": [
      "pyswarms.single.global_best:   6%|▌        |13/200, best_cost=-436278.9225859349"
     ]
    },
    {
     "name": "stdout",
     "output_type": "stream",
     "text": [
      " LOG:   13   3 0.00 0.00 3.50 114.91 -433803.085269\n",
      " LOG:   14   1 0.00 0.00 3.50 125.25 -436174.325404\n",
      " LOG:   14   2 0.00 0.00 3.50 124.64 -436111.007799\n"
     ]
    },
    {
     "name": "stderr",
     "output_type": "stream",
     "text": [
      "pyswarms.single.global_best:   7%|▋        |14/200, best_cost=-436278.9225859349"
     ]
    },
    {
     "name": "stdout",
     "output_type": "stream",
     "text": [
      " LOG:   14   3 0.00 0.00 3.50 112.93 -433030.557761\n",
      " LOG:   15   1 0.00 0.00 3.50 123.07 -435896.302409\n",
      " LOG:   15   2 0.00 0.00 3.50 126.86 -436279.570883\n"
     ]
    },
    {
     "name": "stderr",
     "output_type": "stream",
     "text": [
      "pyswarms.single.global_best:   8%|▋        |15/200, best_cost=-436279.5708827965"
     ]
    },
    {
     "name": "stdout",
     "output_type": "stream",
     "text": [
      " LOG:   15   3 0.00 0.00 3.50 116.60 -434256.460940\n",
      " LOG:   16   1 0.00 0.00 3.50 122.63 -435833.907647\n",
      " LOG:   16   2 0.00 0.00 3.50 128.86 -436242.879225\n"
     ]
    },
    {
     "name": "stderr",
     "output_type": "stream",
     "text": [
      "pyswarms.single.global_best:   8%|▋        |16/200, best_cost=-436279.5708827965"
     ]
    },
    {
     "name": "stdout",
     "output_type": "stream",
     "text": [
      " LOG:   16   3 0.00 0.00 3.50 122.81 -435859.871421\n",
      " LOG:   17   1 0.00 0.00 3.50 124.16 -436060.211138\n",
      " LOG:   17   2 0.00 0.00 3.50 129.92 -436032.840118\n"
     ]
    },
    {
     "name": "stderr",
     "output_type": "stream",
     "text": [
      "pyswarms.single.global_best:   8%|▋        |16/200, best_cost=-436279.5708827965\n",
      "2023-03-16 11:39:05,455 - pyswarms.single.global_best - INFO - Optimization finished | best cost: -436279.5708827965, best pos: [126.85897403]\n"
     ]
    },
    {
     "name": "stdout",
     "output_type": "stream",
     "text": [
      " LOG:   17   3 0.00 0.00 3.50 130.65 -435860.611601\n",
      " LOG: the best cost and The best position returned by PSO\n",
      " LOG:  -436279.5708827965 [126.85897403]\n",
      " Log: Generating the final structure\n",
      " Log: Saving the best cost energy value for every itreation\n"
     ]
    }
   ],
   "source": [
    "#!/usr/bin/env python\n",
    "# coding: utf-8\n",
    "\n",
    "import os.path\n",
    "import sys\n",
    "import subprocess\n",
    "import os \n",
    "import re\n",
    "import pyswarms as ps\n",
    "import numpy as np\n",
    "import time \n",
    "from natsort import natsorted\n",
    "from pyswarms.single.global_best import GlobalBestPSO\n",
    "from pyswarms.single.local_best import LocalBestPSO\n",
    "from pyswarms.backend.operators import compute_pbest, compute_objective_function\n",
    "from collections import deque\n",
    "\n",
    "\n",
    "class bcolors:\n",
    "    HEADER = '\\033[92m'\n",
    "    BLUE = '\\033[94m'\n",
    "    WARNING = '\\033[91m'\n",
    "    BOLD = '\\033[1m'\n",
    "    END = '\\033[0m'\n",
    "\n",
    "# print header in the log file \n",
    "\n",
    "print(bcolors.HEADER + bcolors.BOLD + r\"\"\"\n",
    "+-+-+-+-+-+ +-+-+-+-+-+-+-+-+-+ +-+-+-+ +-+-+-+-+-+-+-+-+-+-+-+-+-+-+\n",
    "           ____ _____  _    ____ _  ______ _____ _   _\n",
    "          / ___|_   _|/ \\  / ___| |/ / ___| ____| \\ | |\n",
    "          \\___ \\ | | / _ \\| |   | ' / |  _|  _| |  \\| |\n",
    "           ___) || |/ ___ \\ |___| . \\ |_| | |___| |\\  |\n",
    "          |____/ |_/_/   \\_\\____|_|\\_\\____|_____|_| \\_|\n",
    "                 Stack generator for supramolecules\n",
    "+-+-+-+-+-+ +-+-+-+-+-+-+-+-+-+ +-+-+-+ +-+-+-+-+-+-+-+-+-+-+-+-+-+-+\n",
    "\"\"\"\n",
    "+bcolors.END \n",
    ")\n",
    "\n",
    "# set default values  \n",
    "# no default values for atom_1, atom_2, and atom_3; they must be entered by the user; otherwise\n",
    "# the program will stop. \n",
    "\n",
    "input_param={}\n",
    "start_opts={}\n",
    "end_opts={}\n",
    "options={}\n",
    "\n",
    "input_param[\"tx_lower\"]=0.0\n",
    "input_param[\"tx_upper\"]=3.0\n",
    "input_param[\"ty_lower\"]=0.0\n",
    "input_param[\"ty_upper\"]=3.0\n",
    "input_param[\"tz_lower\"]=3.3\n",
    "input_param[\"tz_upper\"]=3.7\n",
    "input_param[\"twist_lower\"]=0.0\n",
    "input_param[\"twist_upper\"]=50.0\n",
    "input_param[\"rot_type\"]=0\n",
    "input_param[\"stack_size\"]=3\n",
    "input_param[\"input_struct\"]='input.xyz'\n",
    "input_param[\"pso_type\"]='Globalbest'\n",
    "input_param[\"ftol\"]=10\n",
    "input_param[\"ftol_iter\"]=5\n",
    "input_param[\"maxiterations\"]=100\n",
    "input_param[\"nproc_dftb\"]=1\n",
    "input_param[\"nparticle_pso\"]=10\n",
    "input_param['c1']=0.5\n",
    "input_param['c2']=2.5\n",
    "input_param['w']=9\n",
    "input_param['dimensions']=1\n",
    "input_param['c1_start']=0.5\n",
    "input_param['c1_end']=2.5\n",
    "input_param['c2_start']=0.5\n",
    "input_param['c2_end']=2.5\n",
    "input_param['w_start']=0.9\n",
    "input_param['w_end']=0.4\n",
    "input_param['k']=6\n",
    "input_param['p']=2\n",
    "input_param[\"label\"]='supramolecule'\n",
    "\n",
    "atom_num=1\n",
    "#Reading input from the user \n",
    "with open('user_input.user','r') as fp:\n",
    "    for line in fp:\n",
    "        if not len(line.strip())==0 and not line.lstrip().startswith(\"#\"):\n",
    "            name,var = line.partition('=')[::2]\n",
    "            var=var.strip()\n",
    "            if(len(re.findall(\"[0-9-+]+\", var))>1 and name=='atoms'):#More than one element in atoms\n",
    "                atom_list = re.findall(\"[0-9-+]+\", var)\n",
    "                for element in atom_list:\n",
    "                    input_param['atom_'+str(atom_num)]=element\n",
    "                    atom_num+=1\n",
    "                \n",
    "            if re.match(\"^[0-9-+]*$\", var):\n",
    "                var=int(var)\n",
    "            elif re.match(\"^[0-9-+.]*$\", var):   \n",
    "                var=float(var)\n",
    "            input_param[name.strip()]=var             \n",
    "fp.close()\n",
    "\n",
    "\n",
    "# check if atom_1, atom_2, and atom_3 are defined; if not, stop the program\n",
    "if not \"atom_1\" in input_param or not \"atom_2\" in input_param or not \"atom_3\" in input_param:\n",
    "    print(\" Log: Enter atom numbers for the atom_1, atom_2, and atom_3\")\n",
    "    print(\" Log: Exit ... \") \n",
    "    sys.exit()\n",
    "\n",
    "\n",
    "# check if input xyz file is present \n",
    "if not os.path.isfile(input_param[\"input_struct\"]):\n",
    "    print(\" Log: xyz file \"+input_param[\"input_struct\"]+ \" not found\")\n",
    "    print(\" Log: Exit ... \") \n",
    "    sys.exit()\n",
    "\n",
    "# print the input parameters along with default settings, if any \n",
    "print( \" LOG: print all key and values used by the code \")\n",
    "print( \" LOG: note that some of the keys displayed here may not be used by the code\")\n",
    "for key in input_param:\n",
    "    print( \" LOG: \"+key+\" = \"+str(input_param[key]))\n",
    "\n",
    "\n",
    "global atom_1,atom_2,atom_3,input_struct,pso_type,nproc,rotation_type,neighbour,distance,n_particles,bounds,dimensions,param_len\n",
    "\n",
    "#renaming the variables for simplicity \n",
    "\n",
    "tx_upper = input_param['tx_upper']\n",
    "tx_lower = input_param['tx_lower']\n",
    "ty_upper = input_param['ty_upper']\n",
    "ty_lower = input_param['ty_lower']\n",
    "tz_upper = input_param['tz_upper']\n",
    "tz_lower = input_param['tz_lower']\n",
    "twist_upper = input_param['twist_upper']\n",
    "twist_lower = input_param['twist_lower']\n",
    "rot_type = input_param['rot_type']\n",
    "atom_1 = input_param['atom_1']\n",
    "atom_2 = input_param['atom_2']\n",
    "atom_3 = input_param['atom_3']\n",
    "input_struct = input_param['input_struct']\n",
    "rotation_type=input_param[\"rot_type\"]\n",
    "size = input_param['stack_size']\n",
    "pso_type = input_param['pso_type']\n",
    "ftol = input_param['ftol']\n",
    "ftol_iter = input_param['ftol_iter']\n",
    "iterations = input_param['maxiterations'] \n",
    "nproc=input_param['nproc_dftb']\n",
    "dimensions=input_param['dimension']\n",
    "options['c1']=input_param['c1']\n",
    "options['c2']=input_param['c2']\n",
    "options['w']=input_param['w']\n",
    "\n",
    "start_opts['c1'] = input_param['c1_start']\n",
    "start_opts['c2'] = input_param['c2_start']\n",
    "start_opts['w'] = input_param['w_start']\n",
    "end_opts['c1'] = input_param['c1_end']\n",
    "end_opts['c2'] = input_param['c2_end']\n",
    "end_opts['w'] = input_param['w_end']\n",
    "\n",
    "neighbour=input_param['k']\n",
    "distance=input_param['p']\n",
    "oh_strategy = eval(input_param['oh_strategy'])\n",
    "label=input_param[\"label\"]\n",
    "n_particles=input_param[\"nparticle_pso\"]\n",
    "\n",
    "\n",
    "if(dimensions==1):\n",
    "    tx_upper=tx_lower=0\n",
    "    ty_upper=ty_lower=0\n",
    "    tz_upper=tz_lower=3.5\n",
    "    ub=[twist_upper]\n",
    "    lb=[twist_lower]\n",
    "    param_len=1\n",
    "elif(dimensions==2):\n",
    "    tx_upper=tx_lower=0\n",
    "    ty_upper=ty_lower=0\n",
    "    ub=[tz_upper,twist_upper]\n",
    "    lb=[tz_lower,twist_lower]\n",
    "    param_len=2\n",
    "elif(dimensions==3):\n",
    "    ty_upper=ty_lower=0\n",
    "    ub=[tx_upper,tz_upper,twist_upper]\n",
    "    lb=[tx_lower,tz_lower,twist_lower]\n",
    "    param_len=3\n",
    "elif(dimensions==4):\n",
    "    ub = [input_param['tx_upper'],input_param['ty_upper'],input_param['tz_upper'],input_param['twist_upper']]\n",
    "    lb = [input_param['tx_lower'],input_param['ty_lower'],input_param['tz_lower'],input_param['twist_lower']]\n",
    "    param_len=4\n",
    "    \n",
    "else:\n",
    "    print(bcolors.WARNING + \"ERROR: Wrong value is given.Check user.input file\" + bcolors.END)\n",
    "    \n",
    "bounds =(lb,ub)    \n",
    "\n",
    "\n",
    "def env_check():\n",
    "    completedProc = subprocess.run('./check_env.sh')\n",
    "    if(completedProc.returncode==1):\n",
    "        print(bcolors.WARNING + \" ERROR: dftb+ input file is not found\" + bcolors.END)\n",
    "        exit()\n",
    "    elif(completedProc.returncode==2):\n",
    "        print(bcolors.WARNING + \" ERROR: dftb+ executable not found on the path\"+ bcolors.END )\n",
    "        exit()\n",
    "    elif(completedProc.returncode==3):\n",
    "        print(bcolors.WARNING +\" ERROR: dftb+ test run not successful. Check dftb+ input file\"+ bcolors.END)\n",
    "        print(bcolors.WARNING +\" ERROR: check dftb+ parameters directory path\"+ bcolors.END)\n",
    "        print(bcolors.WARNING +\" ERROR: note that the directory path should terminate with /\"+ bcolors.END)\n",
    "        print(bcolors.WARNING +\" ERROR: stop ... \"+ bcolors.END)\n",
    "        exit()\n",
    "    else:\n",
    "        return 1\n",
    "def optimize(objective_func, maxiters, oh_strategy,start_opts, end_opts):\n",
    "    global pso_type,neighbour,distance,n_particles,bounds,dimensions\n",
    "   \n",
    "    if(pso_type=='Globalbest'):\n",
    "        opt = ps.single.GlobalBestPSO(n_particles, dimensions=dimensions, options=start_opts,\n",
    "                                      bounds=bounds, oh_strategy=oh_strategy, ftol=ftol, ftol_iter=ftol_iter)\n",
    "    elif(pso_type=='Localbest'):\n",
    "        opt = ps.single.LocalBestPSO(n_particles, dimensions=dimensions, options=start_opts, bounds=bounds, \n",
    "                                     oh_strategy=oh_strategy, ftol=ftol, ftol_iter=ftol_iter)\n",
    "   \n",
    "    swarm = opt.swarm\n",
    "    opt.bh.memory = swarm.position\n",
    "    opt.vh.memory = swarm.velocity\n",
    "    swarm.pbest_cost = np.full(opt.swarm_size[0], np.inf)\n",
    "\n",
    "    ftol_history = deque(maxlen=ftol_iter)\n",
    "    for i in range(1,maxiters+1):\n",
    "        swarm.options = opt.oh( opt.options, iternow=i, itermax=maxiters, end_opts=end_opts )\n",
    "        print(\"Iteration:\", i,\" Options: \", swarm.options)  \n",
    "        swarm.current_cost =  compute_objective_function(swarm, objective_func)\n",
    "        swarm.pbest_pos, swarm.pbest_cost = compute_pbest(swarm)\n",
    "\n",
    "  \n",
    "        best_cost_yet_found = swarm.best_cost\n",
    "        if(pso_type=='Globalbest'):\n",
    "            swarm.best_pos, swarm.best_cost = opt.top.compute_gbest(swarm)\n",
    "        if(pso_type=='Localbest'):\n",
    "            swarm.best_pos, swarm.best_cost = opt.top.compute_gbest(swarm,p=distance,k=neighbour)\n",
    "\n",
    "        print(\" LOG: \" + \"Iteration \"+str(i)+\"/\"+str(maxiters)  + \"\\t\" + 'best_cost ='+ str(swarm.best_cost)+\"\\n\")\n",
    "\n",
    "        delta = (\n",
    "                np.abs(swarm.best_cost - best_cost_yet_found)\n",
    "                < ftol\n",
    "            )\n",
    "        if i < ftol_iter+1: \n",
    "            ftol_history.append(delta)\n",
    "        else:\n",
    "            ftol_history.append(delta)\n",
    "            if all(ftol_history):\n",
    "                break \n",
    "\n",
    "     \n",
    "\n",
    "        swarm.velocity = opt.top.compute_velocity(\n",
    "            swarm, opt.velocity_clamp, opt.vh, opt.bounds\n",
    "        )\n",
    "        swarm.position = opt.top.compute_position(\n",
    "            swarm, opt.bounds, opt.bh\n",
    "        )\n",
    "    final_best_cost = swarm.best_cost.copy()\n",
    "    final_best_pos = swarm.pbest_pos[\n",
    "        swarm.pbest_cost.argmin()\n",
    "    ].copy()\n",
    "    return final_best_cost, final_best_pos\n",
    "\n",
    "counter = 0\n",
    "def count():\n",
    "    global counter\n",
    "    counter += 1\n",
    "    \n",
    "def energy_cal(tx,ty,tz,twist):\n",
    "        configuration_generate(tx,ty,tz,twist)\n",
    "        try:\n",
    "            output = subprocess.check_output('./run_dftb_updated.sh generated_'+label+'_'+str(size)+'.xyz' ,shell=True)\n",
    "        except subprocess.CalledProcessError as grepexc:     \n",
    "            print(bcolors.WARNING +\" ERROR: error code\", grepexc.returncode, grepexc.output+ bcolors.END)\n",
    "        if(re.findall(r\"[-+]?(?:\\d*\\.\\d+|[eE][+-]\\d+)\", str(output.strip()))):\n",
    "            energy_val = float(re.findall(r\"[-+]?(?:\\d*\\.\\d+|[eE][+-]\\d+)\", str(output.strip()))[0])\n",
    "        return energy_val\n",
    "    \n",
    "    \n",
    "def energy_min(params):\n",
    "    global param_len\n",
    "\n",
    "    energy_value_list=[]\n",
    "    count()\n",
    "    if counter==1:\n",
    "        print(\" LOG: iteration,pso_particle,tx,ty,tz,twist,Energy\")\n",
    "    x=0\n",
    "    if(param_len==1):\n",
    "        for parm in range(len(params)):\n",
    "            x+=1\n",
    "            tx=ty=0\n",
    "            tz=3.5\n",
    "            twist = params[parm][0]  \n",
    "            energy_val = energy_cal(tx,ty,tz,twist)\n",
    "            energy_value_list.append(energy_val)\n",
    "            print(\" LOG: %4d %3d %0.2f %0.2f %0.2f %0.2f %0.6f\" %(counter,x,tx,ty,tz,twist,energy_val))\n",
    "        return energy_value_list\n",
    "    elif(param_len==2):\n",
    "        for parm in range(len(params)):\n",
    "            x+=1\n",
    "            tx=ty=0\n",
    "            tz = params[parm][0]\n",
    "            twist = params[parm][1]\n",
    "            energy_val = energy_cal(tx,ty,tz,twist)\n",
    "            energy_value_list.append(energy_val)\n",
    "            print(\" LOG: %4d %3d %0.2f %0.2f %0.2f %0.2f %0.6f\" %(counter,x,tx,ty,tz,twist,energy_val))\n",
    "        return energy_value_list\n",
    "    elif(param_len==3):\n",
    "        for parm in range(len(params)):\n",
    "            x+=1\n",
    "            ty=0\n",
    "            tx = params[parm][0]\n",
    "            tz = params[parm][1]\n",
    "            twist = params[parm][2] \n",
    "            energy_val = energy_cal(tx,ty,tz,twist)\n",
    "            energy_value_list.append(energy_val)\n",
    "            print(\" LOG: %4d %3d %0.2f %0.2f %0.2f %0.2f %0.6f\" %(counter,x,tx,ty,tz,twist,energy_val))\n",
    "        return energy_value_list\n",
    "    elif(param_len==4):\n",
    "        for parm in range(len(params)):\n",
    "            x+=1\n",
    "            tx = params[parm][0]\n",
    "            ty = params[parm][1]\n",
    "            tz = params[parm][2]\n",
    "            twist = params[parm][3] \n",
    "            energy_val = energy_cal(tx,ty,tz,twist)\n",
    "            energy_value_list.append(energy_val)\n",
    "            print(\" LOG: %4d %3d %0.2f %0.2f %0.2f %0.2f %0.6f\" %(counter,x,tx,ty,tz,twist,energy_val))\n",
    "        return energy_value_list\n",
    "\n",
    "def opt_struct(params):\n",
    "    print(\" Log: Generating the final structure\")\n",
    "    global param_len\n",
    "    if(param_len==1): \n",
    "            tx=ty=0\n",
    "            tz=3.5\n",
    "            twist = params[0]  \n",
    "            configuration_generate(tx,ty,tz,twist)\n",
    "    elif(param_len==2):\n",
    "            tx=ty=0\n",
    "            tz = params[0]\n",
    "            twist = params[1]\n",
    "            configuration_generate(tx,ty,tz,twist)         \n",
    "    elif(param_len==3):\n",
    "            ty=0\n",
    "            tx = params[0]\n",
    "            tz = params[1]\n",
    "            twist = params[2] \n",
    "            configuration_generate(tx,ty,tz,twist)\n",
    "    elif(param_len==4):\n",
    "            tx = params[0]\n",
    "            ty = params[1]\n",
    "            tz = params[2]\n",
    "            twist = params[3] \n",
    "            configuration_generate(tx,ty,tz,twist)\n",
    "            \n",
    "\n",
    "            \n",
    "def energy_history(cost_history):\n",
    "    print(\" Log: Saving the best cost energy value for every itreation\")\n",
    "    header = [\"Iteration_Number\", \"Best_cost_Energy\"]\n",
    "    iter_num=0\n",
    "    with open(\"Energy_history.xyz\",\"w\") as fp:\n",
    "        fp.writelines('{:>15}   '.format(head) for head in header) \n",
    "        fp.write(\"\\n\")\n",
    "        for en in cost_history:\n",
    "            iter_num=iter_num+1\n",
    "            data = []\n",
    "            data.extend((iter_num, en))\n",
    "            fp.writelines('{:>12}      '.format(energy) for energy in data)\n",
    "            fp.write(\"\\n\")\n",
    "    fp.close()\n",
    "       \n",
    "fp.close()\n",
    "# re-orient the given configuration so that atom_1-atom_2 is along x-axis and\n",
    "# the plane normal is along z-axis \n",
    "\n",
    "def configuration_generate(tx,ty,tz,twist):\n",
    "    tmpconfig='tmpconfig'\n",
    "    input_in=\"python3 orient.py \"+ input_struct + \" -p \" + str(atom_1) +\" \"+ str(atom_2) +\" \" + str(atom_3) + \" -tc\t> \" + tmpconfig +\"0.xyz\"\n",
    "    os.system(input_in)\n",
    "\n",
    "    if(rotation_type==1):\n",
    "        rot = twist\n",
    "        orient = -1\n",
    "        for i in range(1,size):\n",
    "            rot = rot * orient\n",
    "            input_in=\"python3 orient.py \"+ tmpconfig+str(i-1)+\".xyz\" + \" -tz \" + str(tz)  + \" -rz \" + str(rot) +\"  > tmpconfig\"+str(i)+\".xyz\"\n",
    "            os.system(input_in)\n",
    "\n",
    "    elif(rotation_type==2):\n",
    "        for i in range(1,size):\n",
    "            input_in=\"python3 orient.py \"+ tmpconfig+str(i-1)+\".xyz\" + \" -tz \" + str(tz) + \" -tx \" + str(tx)  + \" -ty \" + str(ty)   + \" -rz \" + str(twist) +\"  > tmpconfig\"+str(i)+\".xyz\"\n",
    "            os.system(input_in)\n",
    "    else:\n",
    "        for i in range(1,size):\n",
    "            input_in=\"python3 orient.py \"+ tmpconfig+str(i-1)+\".xyz\" + \" -tz \" + str(tz) + \" -tx \" + str(tx)  + \t\" -ty \" + str(ty)   + \" -rz \" + str(twist) +\"  > tmpconfig\"+str(i)+\".xyz\"\n",
    "            os.system(input_in)\n",
    "\n",
    "  #combining the files \n",
    "    with open(input_struct,'r') as fp:\n",
    "        natom = fp.readline().rstrip()\n",
    "    fp.close()\n",
    "    \n",
    "    totatom=int(natom)*size\n",
    "    files = [f for f in os.listdir('.') if os.path.isfile(f) if 'tmpconfig' in f]\n",
    "    rotated_files = natsorted(files)\n",
    "\n",
    "  \n",
    "    with open('generated_'+label+'_'+str(size)+'.xyz','w') as f:\n",
    "        f.write(str(totatom)+\"\\n\")\n",
    "        f.write(\"\\n\")\n",
    "  \n",
    "        for file in rotated_files:\n",
    "            with open(file,\"r\") as fp: \n",
    "                fp.readline()\n",
    "                fp.readline()\n",
    "                for atoms in range(int(natom)): \n",
    "                    line = fp.readline().split()\n",
    "                    f.write(\"%s \" %(line[0])+\" \")\n",
    "                    for i in range(1,len(line)):\n",
    "                        f.write(\"%-7.3f\" %(float(line[i]))+\" \")\n",
    "                    f.write(\"\\n\")\n",
    "  \n",
    "\n",
    "        os.system(\"rm -f tmpconfig*\")\n",
    "        \n",
    "if(env_check()):\n",
    "    print(\" LOG: All inputs are set \\n\")\n",
    "    \n",
    "    if(pso_type=='Localbest'):\n",
    "        options['k']=neighbour\n",
    "        options['p'] = distance\n",
    "        if(oh_strategy == False): \n",
    "            pso_type='Localbest'\n",
    "            print(\" LOG: Running LocalbestPSO algorithm\")\n",
    "            optimizer = LocalBestPSO(n_particles=n_particles, dimensions=dimensions,\n",
    "                                     options=options,bounds=bounds,ftol=ftol,ftol_iter=ftol_iter)\n",
    "            cost, pos = optimizer.optimize(energy_min,iterations)\n",
    "            \n",
    "        elif(oh_strategy == True):\n",
    "            print(\" LOG: Running LocalbestPSO algorithm with oh_strategy\")\n",
    "            pso_type='Localbest'\n",
    "            start_opts['k']=end_opts['k']=neighbour\n",
    "            start_opts['p']=end_opts['p']=distance\n",
    "            oh_strategy={ \"w\":'exp_decay', \"c1\":'nonlin_mod',\"c2\":'lin_variation'}\n",
    "            cost, pos=optimize(energy_min, iterations, oh_strategy, start_opts, end_opts)\n",
    "        \n",
    "        \n",
    "        \n",
    "    elif(pso_type=='Globalbest'):\n",
    "        \n",
    "        \n",
    "        if(oh_strategy==False):\n",
    "            print(\" LOG: Running GlobalbestPSO algorithm\")\n",
    "            pso_type='Globalbest'\n",
    "            optimizer = GlobalBestPSO(n_particles=n_particles, dimensions=dimensions,options=options,\n",
    "                                      bounds=bounds,ftol=ftol,ftol_iter=ftol_iter)\n",
    "            cost, pos = optimizer.optimize(energy_min,iterations)\n",
    "            \n",
    "        elif(oh_strategy==True):\n",
    "            pso_type='Globalbest'\n",
    "            print(\" LOG: Running GlobalbestPSO algorithm with oh_strategy\")\n",
    "            oh_strategy={ \"w\":'exp_decay', \"c1\":'nonlin_mod',\"c2\":'lin_variation'}\n",
    "            cost, pos=optimize(energy_min, iterations, oh_strategy, start_opts, end_opts)\n",
    "                \n",
    "        \n",
    "     \n",
    "\n",
    "    print(\" LOG: the best cost and The best position returned by PSO\")\n",
    "    print(\" LOG: \", cost,pos)\n",
    "    opt_struct(pos)\n",
    "    energy_history(optimizer.cost_history)\n",
    "\n",
    "    \n",
    "\n"
   ]
  },
  {
   "cell_type": "code",
   "execution_count": null,
   "id": "1274eb5d",
   "metadata": {},
   "outputs": [],
   "source": []
  },
  {
   "cell_type": "code",
   "execution_count": null,
   "id": "54c6bcc5",
   "metadata": {},
   "outputs": [],
   "source": []
  },
  {
   "cell_type": "code",
   "execution_count": null,
   "id": "2ba79184",
   "metadata": {},
   "outputs": [],
   "source": []
  },
  {
   "cell_type": "code",
   "execution_count": null,
   "id": "df542368",
   "metadata": {},
   "outputs": [],
   "source": []
  },
  {
   "cell_type": "code",
   "execution_count": null,
   "id": "eb2a51cd",
   "metadata": {},
   "outputs": [],
   "source": []
  },
  {
   "cell_type": "code",
   "execution_count": null,
   "id": "78cada46",
   "metadata": {},
   "outputs": [],
   "source": []
  },
  {
   "cell_type": "code",
   "execution_count": null,
   "id": "6269685d",
   "metadata": {},
   "outputs": [],
   "source": []
  },
  {
   "cell_type": "code",
   "execution_count": null,
   "id": "d70fe5a9",
   "metadata": {},
   "outputs": [],
   "source": []
  }
 ],
 "metadata": {
  "kernelspec": {
   "display_name": "Python 3 (ipykernel)",
   "language": "python",
   "name": "python3"
  },
  "language_info": {
   "codemirror_mode": {
    "name": "ipython",
    "version": 3
   },
   "file_extension": ".py",
   "mimetype": "text/x-python",
   "name": "python",
   "nbconvert_exporter": "python",
   "pygments_lexer": "ipython3",
   "version": "3.9.12"
  }
 },
 "nbformat": 4,
 "nbformat_minor": 5
}
